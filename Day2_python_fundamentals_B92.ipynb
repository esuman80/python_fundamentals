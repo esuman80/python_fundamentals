{
 "cells": [
  {
   "cell_type": "code",
   "execution_count": null,
   "id": "1ed41f0a-34bb-4490-bd0f-cdb03190e610",
   "metadata": {},
   "outputs": [],
   "source": [
    "Introduction to variables:"
   ]
  },
  {
   "cell_type": "code",
   "execution_count": 1,
   "id": "ed0eb554-48a3-4ca7-a98a-277283eeb622",
   "metadata": {},
   "outputs": [],
   "source": [
    "x=2\n",
    "y=3"
   ]
  },
  {
   "cell_type": "code",
   "execution_count": 7,
   "id": "73f6a133-3a93-434c-ab1a-990c3c5c341b",
   "metadata": {},
   "outputs": [
    {
     "name": "stdout",
     "output_type": "stream",
     "text": [
      "5\n"
     ]
    }
   ],
   "source": [
    "z=x+y\n",
    "print(z)"
   ]
  },
  {
   "cell_type": "code",
   "execution_count": 9,
   "id": "2f6c369c-8ad2-4715-9661-3c47db613ace",
   "metadata": {},
   "outputs": [
    {
     "ename": "SyntaxError",
     "evalue": "invalid syntax (3532364407.py, line 1)",
     "output_type": "error",
     "traceback": [
      "\u001b[1;36m  Cell \u001b[1;32mIn[9], line 1\u001b[1;36m\u001b[0m\n\u001b[1;33m    Rules for declaring the variables:\u001b[0m\n\u001b[1;37m          ^\u001b[0m\n\u001b[1;31mSyntaxError\u001b[0m\u001b[1;31m:\u001b[0m invalid syntax\n"
     ]
    }
   ],
   "source": [
    "Rules for declaring the variables:"
   ]
  },
  {
   "cell_type": "code",
   "execution_count": null,
   "id": "ece31b91-b2e1-4afe-95bb-c42f3f545853",
   "metadata": {},
   "outputs": [],
   "source": [
    "Rule No.1: No namespaces like first name"
   ]
  },
  {
   "cell_type": "code",
   "execution_count": 13,
   "id": "72fc0cb6-7f72-48ec-875f-a5cb709c1f9f",
   "metadata": {},
   "outputs": [
    {
     "name": "stdout",
     "output_type": "stream",
     "text": [
      "Suman\n"
     ]
    }
   ],
   "source": [
    "first_name='Suman'\n",
    "print(first_name)"
   ]
  },
  {
   "cell_type": "code",
   "execution_count": null,
   "id": "ecd7264a-6815-4ca0-b43b-aa198baf9634",
   "metadata": {},
   "outputs": [],
   "source": [
    "Rule No.2: A variable should not start with number like 1name eg: 1xyz is not valid xyz1 is valid****"
   ]
  },
  {
   "cell_type": "code",
   "execution_count": null,
   "id": "ec9cd929-6542-4094-807a-d15473b5a869",
   "metadata": {},
   "outputs": [],
   "source": [
    "Rule No.3: A variable should not have any special characters eg: name@ or name#"
   ]
  },
  {
   "cell_type": "code",
   "execution_count": null,
   "id": "44d5121a-493d-4c75-b588-426f8e5afa76",
   "metadata": {},
   "outputs": [],
   "source": [
    "Introduction to datatypes:\n",
    "1. strings===>str\n",
    "2. numbers===> intergeres and floats(decimals)===> float\n",
    "3. lists ==> list\n",
    "4. tuples===> tuple\n",
    "5. dictionary===> dict"
   ]
  },
  {
   "cell_type": "code",
   "execution_count": null,
   "id": "9dccb54f-9389-4b6d-afcc-f54f9a76f5b9",
   "metadata": {},
   "outputs": [],
   "source": [
    "Classification of datatypes:\n",
    " Broadlt datatypes are classified in to two catergories:\n",
    " 1. mutable datatyes===> they are flexible in nature===>which we can edit and alter\n",
    " 2. immutable datatyes===> they are fixed in nature===>which we cannot edit and alter"
   ]
  },
  {
   "cell_type": "code",
   "execution_count": null,
   "id": "612d1ecc-c5bb-4843-bb4a-1ff664ae1868",
   "metadata": {},
   "outputs": [],
   "source": [
    "Introduction to string datatype:\n",
    "\n",
    "Def: A string is a series of characters declared in quotes.\n",
    "classification: It is classified as an immutable datatype\n",
    "\n",
    "How to declare the string?\n",
    "\n",
    "2 approaches:\n",
    "1. single quote\n",
    "2. double quote"
   ]
  },
  {
   "cell_type": "code",
   "execution_count": 17,
   "id": "12b32e80-39c5-4c75-8e08-e8c1e8eb60e0",
   "metadata": {},
   "outputs": [
    {
     "name": "stdout",
     "output_type": "stream",
     "text": [
      "suman\n"
     ]
    }
   ],
   "source": [
    "firstname='suman'\n",
    "print(firstname)"
   ]
  },
  {
   "cell_type": "code",
   "execution_count": 19,
   "id": "9f236037-3360-49b7-bcb4-5dc03e2e0d83",
   "metadata": {},
   "outputs": [
    {
     "name": "stdout",
     "output_type": "stream",
     "text": [
      "suman\n"
     ]
    }
   ],
   "source": [
    "name=\"suman\"\n",
    "print(name)"
   ]
  },
  {
   "cell_type": "code",
   "execution_count": null,
   "id": "41697f89-6cc7-4aa8-ba18-516d01a2d8c2",
   "metadata": {},
   "outputs": [],
   "source": [
    "Introduction to string methods(built in functions):"
   ]
  },
  {
   "cell_type": "code",
   "execution_count": 21,
   "id": "aa5864cc-da30-4bd7-aec4-61537c6c6a64",
   "metadata": {},
   "outputs": [
    {
     "data": {
      "text/plain": [
       "str"
      ]
     },
     "execution_count": 21,
     "metadata": {},
     "output_type": "execute_result"
    }
   ],
   "source": [
    "type(firstname)"
   ]
  },
  {
   "cell_type": "code",
   "execution_count": 23,
   "id": "cf99c880-37fa-40c8-a335-57afc96a1abb",
   "metadata": {},
   "outputs": [
    {
     "data": {
      "text/plain": [
       "str"
      ]
     },
     "execution_count": 23,
     "metadata": {},
     "output_type": "execute_result"
    }
   ],
   "source": [
    "type(name)"
   ]
  },
  {
   "cell_type": "code",
   "execution_count": 25,
   "id": "f65a99d4-5ea4-4e40-b81a-52281e44da0b",
   "metadata": {},
   "outputs": [
    {
     "ename": "SyntaxError",
     "evalue": "invalid syntax (1498639514.py, line 1)",
     "output_type": "error",
     "traceback": [
      "\u001b[1;36m  Cell \u001b[1;32mIn[25], line 1\u001b[1;36m\u001b[0m\n\u001b[1;33m    Note: 1. Python is case senstive language\u001b[0m\n\u001b[1;37m             ^\u001b[0m\n\u001b[1;31mSyntaxError\u001b[0m\u001b[1;31m:\u001b[0m invalid syntax\n"
     ]
    }
   ],
   "source": [
    "Note: 1. Python is case senstive language\n"
   ]
  },
  {
   "cell_type": "code",
   "execution_count": null,
   "id": "46a0efbd-daa6-42db-948b-eb135288954e",
   "metadata": {},
   "outputs": [],
   "source": [
    "# is used to comment the code"
   ]
  },
  {
   "cell_type": "code",
   "execution_count": 27,
   "id": "742b78e4-ce5f-4d1c-a4db-b1efe0ed9023",
   "metadata": {},
   "outputs": [
    {
     "name": "stdout",
     "output_type": "stream",
     "text": [
      "durga prasad\n"
     ]
    }
   ],
   "source": [
    "fullname='durga prasad'\n",
    "print(fullname)"
   ]
  },
  {
   "cell_type": "code",
   "execution_count": 29,
   "id": "39f49aa4-2126-4530-9d64-ffc46564c663",
   "metadata": {},
   "outputs": [
    {
     "name": "stdout",
     "output_type": "stream",
     "text": [
      "Durga Prasad\n"
     ]
    }
   ],
   "source": [
    "print(fullname.title()) ##convert to title"
   ]
  },
  {
   "cell_type": "code",
   "execution_count": null,
   "id": "0e33d85e-7aef-45a2-920a-166dcb1d2ef9",
   "metadata": {},
   "outputs": [],
   "source": [
    "##Req: I want the entire name in capital letter"
   ]
  },
  {
   "cell_type": "code",
   "execution_count": 31,
   "id": "7ad9a811-1f64-4a24-baed-f7ee5a039776",
   "metadata": {},
   "outputs": [
    {
     "name": "stdout",
     "output_type": "stream",
     "text": [
      "DURGA PRASAD\n"
     ]
    }
   ],
   "source": [
    "print(fullname.upper())"
   ]
  },
  {
   "cell_type": "code",
   "execution_count": null,
   "id": "8ece0179-8c56-42c5-ba6a-74610108a7d8",
   "metadata": {},
   "outputs": [],
   "source": [
    "#Req: I want in lower case"
   ]
  },
  {
   "cell_type": "code",
   "execution_count": 33,
   "id": "139e5301-93f6-409e-be2b-d1a86a06c03c",
   "metadata": {},
   "outputs": [
    {
     "name": "stdout",
     "output_type": "stream",
     "text": [
      "durga prasad\n"
     ]
    }
   ],
   "source": [
    "print(fullname.lower())"
   ]
  },
  {
   "cell_type": "code",
   "execution_count": null,
   "id": "a51bab49-5d71-44d4-bc04-d4cb91487482",
   "metadata": {},
   "outputs": [],
   "source": []
  }
 ],
 "metadata": {
  "kernelspec": {
   "display_name": "Python [conda env:base] *",
   "language": "python",
   "name": "conda-base-py"
  },
  "language_info": {
   "codemirror_mode": {
    "name": "ipython",
    "version": 3
   },
   "file_extension": ".py",
   "mimetype": "text/x-python",
   "name": "python",
   "nbconvert_exporter": "python",
   "pygments_lexer": "ipython3",
   "version": "3.12.7"
  }
 },
 "nbformat": 4,
 "nbformat_minor": 5
}
