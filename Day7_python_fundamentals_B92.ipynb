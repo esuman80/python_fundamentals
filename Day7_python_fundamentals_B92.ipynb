{
 "cells": [
  {
   "cell_type": "code",
   "execution_count": null,
   "id": "c4cb5633-280b-4b65-a724-ef45469bf47d",
   "metadata": {},
   "outputs": [],
   "source": [
    "##Introduction on dictionary datatype:***"
   ]
  },
  {
   "cell_type": "code",
   "execution_count": null,
   "id": "4ea5deb7-e589-4a1c-9a98-719cb5855c8a",
   "metadata": {},
   "outputs": [],
   "source": [
    "Def: Dictionary is a combination of key value pairs.\n",
    "Classified: It is classified mutable datatype\n",
    "How to define the dictionary? {}"
   ]
  },
  {
   "cell_type": "code",
   "execution_count": null,
   "id": "e9b3effc-c0ca-49d1-b575-bbf151b8c76b",
   "metadata": {},
   "outputs": [],
   "source": [
    "# Create a sample dictionary:"
   ]
  },
  {
   "cell_type": "code",
   "execution_count": 13,
   "id": "5eefbb53-4c83-43c5-90d1-0fd0ce5c20ae",
   "metadata": {},
   "outputs": [],
   "source": [
    "alien = {'color':'green','points':5}"
   ]
  },
  {
   "cell_type": "code",
   "execution_count": 5,
   "id": "c0dbe7fe-d7be-49d7-834a-96eb88871a17",
   "metadata": {},
   "outputs": [
    {
     "name": "stdout",
     "output_type": "stream",
     "text": [
      "{'color': 'green', 'pints': 5}\n"
     ]
    }
   ],
   "source": [
    "print(alien)"
   ]
  },
  {
   "cell_type": "code",
   "execution_count": 7,
   "id": "365d4e3e-a79d-4068-8aae-f06dafd711e2",
   "metadata": {},
   "outputs": [
    {
     "data": {
      "text/plain": [
       "dict"
      ]
     },
     "execution_count": 7,
     "metadata": {},
     "output_type": "execute_result"
    }
   ],
   "source": [
    "type(alien)"
   ]
  },
  {
   "cell_type": "code",
   "execution_count": null,
   "id": "af749313-d3fa-41fe-8027-b0e016b072d9",
   "metadata": {},
   "outputs": [],
   "source": [
    "# How to access key value pairs in the dictionary:\n",
    "Note: Keys will be acting as an indexes in the dictionary."
   ]
  },
  {
   "cell_type": "code",
   "execution_count": null,
   "id": "6ceeba1b-5181-4335-93db-f82ae2f1ef87",
   "metadata": {},
   "outputs": [],
   "source": [
    "# Req: I want to know the color of the alien"
   ]
  },
  {
   "cell_type": "code",
   "execution_count": 11,
   "id": "a835b785-a81f-4a83-a64e-6fe71a307c0d",
   "metadata": {},
   "outputs": [
    {
     "name": "stdout",
     "output_type": "stream",
     "text": [
      "green\n"
     ]
    }
   ],
   "source": [
    "print(alien['color'])"
   ]
  },
  {
   "cell_type": "code",
   "execution_count": null,
   "id": "24900376-b1eb-43ef-b00c-921c4dec997b",
   "metadata": {},
   "outputs": [],
   "source": [
    "#Req: I wanto know how many points for killing an alien?"
   ]
  },
  {
   "cell_type": "code",
   "execution_count": 15,
   "id": "1bfccf1b-472b-4708-a404-00a5c09fdca0",
   "metadata": {},
   "outputs": [
    {
     "name": "stdout",
     "output_type": "stream",
     "text": [
      "5\n"
     ]
    }
   ],
   "source": [
    "print(alien['points'])"
   ]
  },
  {
   "cell_type": "code",
   "execution_count": null,
   "id": "09489843-fc1f-449b-b7b7-b5a2b765ecfc",
   "metadata": {},
   "outputs": [],
   "source": [
    "# How to add new key value pairs to the dictionary\n",
    "Req:  I want to add start_posiiton of the alien 0"
   ]
  },
  {
   "cell_type": "code",
   "execution_count": 17,
   "id": "f775abe7-64a6-4bfc-85c5-27c381e811e7",
   "metadata": {},
   "outputs": [],
   "source": [
    "alien['start_positon']=0"
   ]
  },
  {
   "cell_type": "code",
   "execution_count": 19,
   "id": "6505bd0e-6513-4e1c-ac4c-002fe79bad53",
   "metadata": {},
   "outputs": [
    {
     "name": "stdout",
     "output_type": "stream",
     "text": [
      "{'color': 'green', 'points': 5, 'start_positon': 0}\n"
     ]
    }
   ],
   "source": [
    "print(alien)"
   ]
  },
  {
   "cell_type": "code",
   "execution_count": null,
   "id": "9eafe234-5d5a-4198-a9af-d9fa7c02189b",
   "metadata": {},
   "outputs": [],
   "source": [
    "# Req: Create a new instagram account:"
   ]
  },
  {
   "cell_type": "code",
   "execution_count": 21,
   "id": "3ed87982-6a00-41bf-8d9a-89b412f45b9d",
   "metadata": {},
   "outputs": [],
   "source": [
    "new_account = {'username':'python','first_name':'training','dob':'01-01-2020','pwd':'46484'}"
   ]
  },
  {
   "cell_type": "code",
   "execution_count": 23,
   "id": "dc58ce48-103f-4891-b400-afa7df45df90",
   "metadata": {},
   "outputs": [
    {
     "name": "stdout",
     "output_type": "stream",
     "text": [
      "{'username': 'python', 'first_name': 'training', 'dob': '01-01-2020', 'pwd': '46484'}\n"
     ]
    }
   ],
   "source": [
    "print(new_account)"
   ]
  },
  {
   "cell_type": "code",
   "execution_count": null,
   "id": "b26ebfbe-992a-4e94-a244-39a5819e74e9",
   "metadata": {},
   "outputs": [],
   "source": [
    "#Req: I want to update the user_name"
   ]
  },
  {
   "cell_type": "code",
   "execution_count": 25,
   "id": "8637dd17-0c90-4698-9ee8-a66fd9ae9f1a",
   "metadata": {},
   "outputs": [],
   "source": [
    "new_account['username'] = 'python training'"
   ]
  },
  {
   "cell_type": "code",
   "execution_count": 27,
   "id": "4af3c62d-101e-4875-a879-5a2fd2b51e1d",
   "metadata": {},
   "outputs": [
    {
     "name": "stdout",
     "output_type": "stream",
     "text": [
      "{'username': 'python training', 'first_name': 'training', 'dob': '01-01-2020', 'pwd': '46484'}\n"
     ]
    }
   ],
   "source": [
    "print(new_account)"
   ]
  },
  {
   "cell_type": "code",
   "execution_count": null,
   "id": "459b1a3a-1f79-45bb-a822-616e42fe1d94",
   "metadata": {},
   "outputs": [],
   "source": [
    "# How to delete the key value pairs:"
   ]
  },
  {
   "cell_type": "code",
   "execution_count": null,
   "id": "eef0d3b1-0aa7-4103-8f1a-306b43175f6f",
   "metadata": {},
   "outputs": [],
   "source": [
    "# req: I want to delete pwd"
   ]
  },
  {
   "cell_type": "code",
   "execution_count": 29,
   "id": "3da161c5-8fd8-4460-81f0-ccc3e7ebefaf",
   "metadata": {},
   "outputs": [],
   "source": [
    "del new_account['pwd']"
   ]
  },
  {
   "cell_type": "code",
   "execution_count": 31,
   "id": "1d473e12-dadc-4ff5-a835-534ecf99f823",
   "metadata": {},
   "outputs": [
    {
     "name": "stdout",
     "output_type": "stream",
     "text": [
      "{'username': 'python training', 'first_name': 'training', 'dob': '01-01-2020'}\n"
     ]
    }
   ],
   "source": [
    "print(new_account)"
   ]
  },
  {
   "cell_type": "code",
   "execution_count": null,
   "id": "ed987945-4d1c-4463-92ed-3f5e131d9c33",
   "metadata": {},
   "outputs": [],
   "source": []
  }
 ],
 "metadata": {
  "kernelspec": {
   "display_name": "Python [conda env:base] *",
   "language": "python",
   "name": "conda-base-py"
  },
  "language_info": {
   "codemirror_mode": {
    "name": "ipython",
    "version": 3
   },
   "file_extension": ".py",
   "mimetype": "text/x-python",
   "name": "python",
   "nbconvert_exporter": "python",
   "pygments_lexer": "ipython3",
   "version": "3.12.7"
  }
 },
 "nbformat": 4,
 "nbformat_minor": 5
}
