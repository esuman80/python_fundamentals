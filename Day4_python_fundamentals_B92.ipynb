{
 "cells": [
  {
   "cell_type": "code",
   "execution_count": null,
   "id": "9d0a7bf0-7975-4bd0-992d-29413d89633f",
   "metadata": {},
   "outputs": [],
   "source": [
    "Introduction to list datatype:"
   ]
  },
  {
   "cell_type": "code",
   "execution_count": null,
   "id": "0e109d97-d4c3-45a0-8ad0-870d9e88be5c",
   "metadata": {},
   "outputs": [],
   "source": [
    "Def: A list is a collectin of items declared in a particualr order\n",
    "Clasification: It is classified as an mutable datatype\n",
    "How to define the list....?[ ]"
   ]
  },
  {
   "cell_type": "code",
   "execution_count": null,
   "id": "b9bf7628-c728-4394-8fda-133e1a1a7f1c",
   "metadata": {},
   "outputs": [],
   "source": []
  },
  {
   "cell_type": "code",
   "execution_count": 9,
   "id": "aa8e1a84-8492-431d-b6f6-bfdfe59534a9",
   "metadata": {},
   "outputs": [],
   "source": [
    "students = ['lubna','ayesha','naveena','john','chandra']"
   ]
  },
  {
   "cell_type": "code",
   "execution_count": 11,
   "id": "b7631054-e8ae-47bb-ae89-644c1d693b16",
   "metadata": {},
   "outputs": [
    {
     "name": "stdout",
     "output_type": "stream",
     "text": [
      "['lubna', 'ayesha', 'naveena', 'john', 'chandra']\n"
     ]
    }
   ],
   "source": [
    "print(students)"
   ]
  },
  {
   "cell_type": "code",
   "execution_count": null,
   "id": "843df7a0-8e2d-4eca-985d-0e9b09d2b4c0",
   "metadata": {},
   "outputs": [],
   "source": []
  },
  {
   "cell_type": "code",
   "execution_count": null,
   "id": "7e06a76a-e5d6-4e60-af78-77c28217cc48",
   "metadata": {},
   "outputs": [],
   "source": [
    "Understanding the concept of indexing:"
   ]
  },
  {
   "cell_type": "code",
   "execution_count": null,
   "id": "1134df4e-0795-4ddf-a713-d5b38ecc2c71",
   "metadata": {},
   "outputs": [],
   "source": [
    "# I wanted to get the name of Lubna in the output...?"
   ]
  },
  {
   "cell_type": "code",
   "execution_count": 13,
   "id": "f3d24fba-17de-466d-add1-a7960d308c3f",
   "metadata": {},
   "outputs": [
    {
     "name": "stdout",
     "output_type": "stream",
     "text": [
      "lubna\n"
     ]
    }
   ],
   "source": [
    "print(students[0])"
   ]
  },
  {
   "cell_type": "code",
   "execution_count": 15,
   "id": "4a2b40c6-5fde-493a-9df8-1e45351c63e6",
   "metadata": {},
   "outputs": [
    {
     "name": "stdout",
     "output_type": "stream",
     "text": [
      "Lubna\n"
     ]
    }
   ],
   "source": [
    "print(students[0].title())"
   ]
  },
  {
   "cell_type": "code",
   "execution_count": null,
   "id": "facbbd48-727f-429c-bf9b-9b456b07da7b",
   "metadata": {},
   "outputs": [],
   "source": [
    "# I want o get the name of Naveena in the output:"
   ]
  },
  {
   "cell_type": "code",
   "execution_count": 19,
   "id": "6c92b5b2-7262-49f4-a6e7-2badbcb39651",
   "metadata": {},
   "outputs": [
    {
     "name": "stdout",
     "output_type": "stream",
     "text": [
      "Naveena\n"
     ]
    }
   ],
   "source": [
    "print(students[2].title())"
   ]
  },
  {
   "cell_type": "code",
   "execution_count": null,
   "id": "622a590c-4891-4a19-b28c-08037ec02833",
   "metadata": {},
   "outputs": [],
   "source": [
    "# How to add new elements to the list datatype\n",
    "# How to modify the elements in the list datatype\n",
    "# How to delete the elements in the list datatype  "
   ]
  },
  {
   "cell_type": "code",
   "execution_count": null,
   "id": "e8ba8fe6-9626-4e39-8e3a-60bef64fafcc",
   "metadata": {},
   "outputs": [],
   "source": [
    "#Req: I want to add tazeen to the above list..?"
   ]
  },
  {
   "cell_type": "code",
   "execution_count": 23,
   "id": "149711c7-4d09-4e06-9193-45bf1bad9abf",
   "metadata": {},
   "outputs": [],
   "source": [
    "students.append('tazeen')"
   ]
  },
  {
   "cell_type": "code",
   "execution_count": 25,
   "id": "057cc536-f4c9-4c7e-ada0-08eeb47d2fdc",
   "metadata": {},
   "outputs": [
    {
     "name": "stdout",
     "output_type": "stream",
     "text": [
      "['lubna', 'ayesha', 'naveena', 'john', 'chandra', 'tazeen']\n"
     ]
    }
   ],
   "source": [
    "print(students)"
   ]
  },
  {
   "cell_type": "code",
   "execution_count": 27,
   "id": "c33a138b-a06d-4f29-9dff-06d4efde64e7",
   "metadata": {},
   "outputs": [],
   "source": [
    "students.append('david')"
   ]
  },
  {
   "cell_type": "code",
   "execution_count": 29,
   "id": "3dbfa60b-47b6-42bd-901b-1bb8a84c18e5",
   "metadata": {},
   "outputs": [
    {
     "name": "stdout",
     "output_type": "stream",
     "text": [
      "['lubna', 'ayesha', 'naveena', 'john', 'chandra', 'tazeen', 'david']\n"
     ]
    }
   ],
   "source": [
    "print(students)"
   ]
  },
  {
   "cell_type": "code",
   "execution_count": null,
   "id": "c41cd9fa-f8f2-435f-97a3-a40edac3e5a4",
   "metadata": {},
   "outputs": [],
   "source": [
    "#req: I want to add poojitha name in the second indes."
   ]
  },
  {
   "cell_type": "code",
   "execution_count": 33,
   "id": "b4a18ea1-9747-4c4a-a4c8-20c5d872a284",
   "metadata": {},
   "outputs": [],
   "source": [
    "students.insert(2,'poojitha')"
   ]
  },
  {
   "cell_type": "code",
   "execution_count": 35,
   "id": "f3113d19-1c78-4b7a-bd5b-8dc0e2e6b023",
   "metadata": {},
   "outputs": [
    {
     "name": "stdout",
     "output_type": "stream",
     "text": [
      "['lubna', 'ayesha', 'poojitha', 'naveena', 'john', 'chandra', 'tazeen', 'david']\n"
     ]
    }
   ],
   "source": [
    "print(students)"
   ]
  },
  {
   "cell_type": "code",
   "execution_count": 37,
   "id": "6ca7f07c-5e98-4c4e-b58d-6e63f3711571",
   "metadata": {},
   "outputs": [
    {
     "name": "stdout",
     "output_type": "stream",
     "text": [
      "Poojitha\n"
     ]
    }
   ],
   "source": [
    "print(students[2].title())"
   ]
  },
  {
   "cell_type": "code",
   "execution_count": null,
   "id": "83e5a473-950e-4021-9b2d-672bb0e02ef6",
   "metadata": {},
   "outputs": [],
   "source": [
    "Interview question: Difference between insert and append in a list"
   ]
  },
  {
   "cell_type": "code",
   "execution_count": null,
   "id": "024900ba-4e60-4e3f-b724-bc504136eff5",
   "metadata": {},
   "outputs": [],
   "source": [
    "How to modify the elements in the list datatype:"
   ]
  },
  {
   "cell_type": "code",
   "execution_count": 39,
   "id": "46110647-6ef6-4423-9308-36fb4221b9cd",
   "metadata": {},
   "outputs": [
    {
     "name": "stdout",
     "output_type": "stream",
     "text": [
      "['lubna', 'ayesha', 'poojitha', 'naveena', 'john', 'chandra', 'tazeen', 'david']\n"
     ]
    }
   ],
   "source": [
    "print(students)"
   ]
  },
  {
   "cell_type": "code",
   "execution_count": null,
   "id": "6f6d37ad-386a-4587-8a89-feac17ba873f",
   "metadata": {},
   "outputs": [],
   "source": [
    "# req: I want to modify Poojithan name to Ramya"
   ]
  },
  {
   "cell_type": "code",
   "execution_count": 41,
   "id": "d46d2f24-f437-4725-8b58-d8c9dcd5fdb7",
   "metadata": {},
   "outputs": [],
   "source": [
    "students[2] = 'ramya'"
   ]
  },
  {
   "cell_type": "code",
   "execution_count": 43,
   "id": "f3b0515c-cf85-40ed-bfec-ae8680358a19",
   "metadata": {},
   "outputs": [
    {
     "name": "stdout",
     "output_type": "stream",
     "text": [
      "['lubna', 'ayesha', 'ramya', 'naveena', 'john', 'chandra', 'tazeen', 'david']\n"
     ]
    }
   ],
   "source": [
    "print(students)"
   ]
  },
  {
   "cell_type": "code",
   "execution_count": null,
   "id": "6ccd6434-046b-4003-baa7-27c691bd1249",
   "metadata": {},
   "outputs": [],
   "source": [
    "#req: How to delete the elements in the list datatype \n",
    "1. Temporary deleting\n",
    "2. Permanent deleting"
   ]
  },
  {
   "cell_type": "code",
   "execution_count": null,
   "id": "a0c21ff8-6408-4cf5-988e-dd52d1f222a6",
   "metadata": {},
   "outputs": [],
   "source": [
    "# I want to delete Lubna name: pop\n",
    "Note: pop by default will be deleting the last element in the list and it will be creating a carbon copy of the deleted item with the \n",
    "variable that has been asssigned to it."
   ]
  },
  {
   "cell_type": "code",
   "execution_count": 45,
   "id": "cf1b6753-2375-4d8a-8a79-14916e868f2a",
   "metadata": {},
   "outputs": [],
   "source": [
    "x = students.pop()"
   ]
  },
  {
   "cell_type": "code",
   "execution_count": 47,
   "id": "f65bf5b3-d5a1-4617-bed5-280cd594718b",
   "metadata": {},
   "outputs": [
    {
     "name": "stdout",
     "output_type": "stream",
     "text": [
      "['lubna', 'ayesha', 'ramya', 'naveena', 'john', 'chandra', 'tazeen']\n"
     ]
    }
   ],
   "source": [
    "print(students)"
   ]
  },
  {
   "cell_type": "code",
   "execution_count": 49,
   "id": "0698e8f7-cdc1-4fc2-b704-27ca53a69e1e",
   "metadata": {},
   "outputs": [
    {
     "name": "stdout",
     "output_type": "stream",
     "text": [
      "david\n"
     ]
    }
   ],
   "source": [
    "print(x)"
   ]
  },
  {
   "cell_type": "code",
   "execution_count": 51,
   "id": "ce8c2c22-13c6-4691-95d3-64ceb2041b9c",
   "metadata": {},
   "outputs": [],
   "source": [
    "y = students.pop(0)"
   ]
  },
  {
   "cell_type": "code",
   "execution_count": 53,
   "id": "8797e694-ecdf-439c-8c32-b210c0b8e9a2",
   "metadata": {},
   "outputs": [
    {
     "name": "stdout",
     "output_type": "stream",
     "text": [
      "['ayesha', 'ramya', 'naveena', 'john', 'chandra', 'tazeen']\n"
     ]
    }
   ],
   "source": [
    "print(students)"
   ]
  },
  {
   "cell_type": "code",
   "execution_count": 55,
   "id": "bd2ee929-1659-49a3-8933-08abeeb937ce",
   "metadata": {},
   "outputs": [
    {
     "name": "stdout",
     "output_type": "stream",
     "text": [
      "lubna\n"
     ]
    }
   ],
   "source": [
    "print(y)"
   ]
  },
  {
   "cell_type": "code",
   "execution_count": null,
   "id": "00cb7b28-9235-4afa-89d1-0deb45a3a4c2",
   "metadata": {},
   "outputs": [],
   "source": [
    "#Req: I want to delete chandra name in the above"
   ]
  },
  {
   "cell_type": "code",
   "execution_count": 59,
   "id": "a1eac353-2319-4cc7-a2be-8899f88847ae",
   "metadata": {},
   "outputs": [],
   "source": [
    "del students[3]"
   ]
  },
  {
   "cell_type": "code",
   "execution_count": 61,
   "id": "b6d9378e-5a11-4af0-975b-b2cd88705486",
   "metadata": {},
   "outputs": [
    {
     "name": "stdout",
     "output_type": "stream",
     "text": [
      "['ayesha', 'ramya', 'naveena', 'tazeen']\n"
     ]
    }
   ],
   "source": [
    "print(students)"
   ]
  },
  {
   "cell_type": "code",
   "execution_count": null,
   "id": "2ea1b3b4-e7b9-472f-a713-1f81cefefff9",
   "metadata": {},
   "outputs": [],
   "source": [
    "Interview question: Difference between pop and delete"
   ]
  }
 ],
 "metadata": {
  "kernelspec": {
   "display_name": "Python [conda env:base] *",
   "language": "python",
   "name": "conda-base-py"
  },
  "language_info": {
   "codemirror_mode": {
    "name": "ipython",
    "version": 3
   },
   "file_extension": ".py",
   "mimetype": "text/x-python",
   "name": "python",
   "nbconvert_exporter": "python",
   "pygments_lexer": "ipython3",
   "version": "3.12.7"
  }
 },
 "nbformat": 4,
 "nbformat_minor": 5
}
