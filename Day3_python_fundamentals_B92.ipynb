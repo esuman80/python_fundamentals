{
 "cells": [
  {
   "cell_type": "code",
   "execution_count": null,
   "id": "89ad6145-ce2d-426e-bd5a-f31770f295a8",
   "metadata": {},
   "outputs": [],
   "source": [
    "Continuation with string data type"
   ]
  },
  {
   "cell_type": "code",
   "execution_count": null,
   "id": "861b724a-33db-4877-860d-3d6409c7f8c1",
   "metadata": {},
   "outputs": [],
   "source": [
    "Introduction to f strings:"
   ]
  },
  {
   "cell_type": "code",
   "execution_count": null,
   "id": "44b16aea-ba64-4464-80a3-67e90e7e369f",
   "metadata": {},
   "outputs": [],
   "source": [
    "##General syntax of f strings\""
   ]
  },
  {
   "cell_type": "code",
   "execution_count": null,
   "id": "c6e06c8e-8fb4-44ec-bd1a-adc6c7b9df52",
   "metadata": {},
   "outputs": [],
   "source": [
    "f\" custom message {place_holder_1} {place_holder_2}.....{place_holder_n}\""
   ]
  },
  {
   "cell_type": "code",
   "execution_count": 9,
   "id": "a77d7e73-31c4-4d00-bc9f-29d2a8647c7c",
   "metadata": {},
   "outputs": [],
   "source": [
    "firstname=\"David\"\n",
    "lastname=\"John\""
   ]
  },
  {
   "cell_type": "code",
   "execution_count": null,
   "id": "78deb1ff-1eff-4746-9e17-3b9f392294ce",
   "metadata": {},
   "outputs": [],
   "source": [
    "#Requirmemt: I want to get the full name.."
   ]
  },
  {
   "cell_type": "code",
   "execution_count": 11,
   "id": "5272db2e-3a06-4fa0-9e40-f6dbf5943ee5",
   "metadata": {},
   "outputs": [
    {
     "name": "stdout",
     "output_type": "stream",
     "text": [
      "David John\n"
     ]
    }
   ],
   "source": [
    "fullname = f\"{firstname} {lastname}\"\n",
    "print(fullname)"
   ]
  },
  {
   "cell_type": "code",
   "execution_count": 13,
   "id": "a9d02816-1711-43ae-9471-1f53dfc6df07",
   "metadata": {},
   "outputs": [
    {
     "name": "stdout",
     "output_type": "stream",
     "text": [
      "keep up the good work, David John\n"
     ]
    }
   ],
   "source": [
    "message = f\"keep up the good work, {fullname}\"\n",
    "print(message)"
   ]
  },
  {
   "cell_type": "code",
   "execution_count": 17,
   "id": "e0bd2516-556c-47c8-b247-14975785c951",
   "metadata": {},
   "outputs": [
    {
     "data": {
      "text/plain": [
       "str"
      ]
     },
     "execution_count": 17,
     "metadata": {},
     "output_type": "execute_result"
    }
   ],
   "source": [
    "type(fullname)"
   ]
  },
  {
   "cell_type": "code",
   "execution_count": null,
   "id": "9d4b80b2-3c46-4224-98c7-c989be84b14c",
   "metadata": {},
   "outputs": [],
   "source": [
    "##addming whitespaces to strings:"
   ]
  },
  {
   "cell_type": "code",
   "execution_count": null,
   "id": "cde70751-1c67-4914-8c50-373fd1f34203",
   "metadata": {},
   "outputs": [],
   "source": [
    "# req: Favorite programming language"
   ]
  },
  {
   "cell_type": "code",
   "execution_count": 19,
   "id": "4dc934a7-8b94-4cfa-8ef3-426e08b308bd",
   "metadata": {},
   "outputs": [
    {
     "name": "stdout",
     "output_type": "stream",
     "text": [
      "fav_programming_lang:pythonc++javacjavascriptswft\n"
     ]
    }
   ],
   "source": [
    "print(\"fav_programming_lang:pythonc++javacjavascriptswft\")"
   ]
  },
  {
   "cell_type": "code",
   "execution_count": 23,
   "id": "6ac5756a-5c1f-4351-8193-cf04dad757e8",
   "metadata": {},
   "outputs": [
    {
     "name": "stdout",
     "output_type": "stream",
     "text": [
      "fav_programming_lang:\n",
      "python\n",
      "c++\n",
      "javascript\n",
      "swift\n"
     ]
    }
   ],
   "source": [
    "print(\"fav_programming_lang:\\npython\\nc++\\njavascript\\nswift\")"
   ]
  },
  {
   "cell_type": "code",
   "execution_count": 25,
   "id": "e324a5ac-d526-4219-91a0-3f41ae669591",
   "metadata": {},
   "outputs": [
    {
     "name": "stdout",
     "output_type": "stream",
     "text": [
      "fav_programming_lang:\n",
      "\tpython\n",
      "\tc++\n",
      "\tjavascript\n",
      "\tswift\n"
     ]
    }
   ],
   "source": [
    "print(\"fav_programming_lang:\\n\\tpython\\n\\tc++\\n\\tjavascript\\n\\tswift\")"
   ]
  },
  {
   "cell_type": "code",
   "execution_count": null,
   "id": "e2648e8f-b8ff-45a8-9727-051a91f02971",
   "metadata": {},
   "outputs": [],
   "source": [
    "##removing white spaces in strings"
   ]
  },
  {
   "cell_type": "code",
   "execution_count": 27,
   "id": "fa9b242c-702d-46c2-9223-af5d566ea647",
   "metadata": {
    "scrolled": true
   },
   "outputs": [
    {
     "name": "stdout",
     "output_type": "stream",
     "text": [
      " python\n"
     ]
    }
   ],
   "source": [
    "name = ' python'\n",
    "print(name)"
   ]
  },
  {
   "cell_type": "code",
   "execution_count": 29,
   "id": "0e21ec11-0c55-42b9-8a49-5744fe76a528",
   "metadata": {},
   "outputs": [
    {
     "name": "stdout",
     "output_type": "stream",
     "text": [
      "python\n"
     ]
    }
   ],
   "source": [
    "name2 = 'python'\n",
    "print(name2)"
   ]
  },
  {
   "cell_type": "code",
   "execution_count": 31,
   "id": "576865a2-87e0-4658-917a-dbf832721e7c",
   "metadata": {},
   "outputs": [
    {
     "name": "stdout",
     "output_type": "stream",
     "text": [
      "python  \n"
     ]
    }
   ],
   "source": [
    "name3 = 'python  '\n",
    "print(name3)"
   ]
  },
  {
   "cell_type": "code",
   "execution_count": 33,
   "id": "d1146136-37f6-445e-b2eb-16c17599c951",
   "metadata": {},
   "outputs": [
    {
     "data": {
      "text/plain": [
       "'python'"
      ]
     },
     "execution_count": 33,
     "metadata": {},
     "output_type": "execute_result"
    }
   ],
   "source": [
    "name.lstrip() #left strip"
   ]
  },
  {
   "cell_type": "code",
   "execution_count": 36,
   "id": "daedb66e-3dfe-4e36-94d1-7eecd41ebedb",
   "metadata": {},
   "outputs": [
    {
     "data": {
      "text/plain": [
       "'python'"
      ]
     },
     "execution_count": 36,
     "metadata": {},
     "output_type": "execute_result"
    }
   ],
   "source": [
    "name3.rstrip()"
   ]
  },
  {
   "cell_type": "code",
   "execution_count": 40,
   "id": "faf32189-625b-4ccc-996d-9a4be587fdf6",
   "metadata": {
    "scrolled": true
   },
   "outputs": [
    {
     "data": {
      "text/plain": [
       "'python'"
      ]
     },
     "execution_count": 40,
     "metadata": {},
     "output_type": "execute_result"
    }
   ],
   "source": [
    "name4 = \"   python  \"\n",
    "name4.strip()\n"
   ]
  },
  {
   "cell_type": "code",
   "execution_count": null,
   "id": "39d2d526-75a0-4bf4-b8bd-0fcd909fb72e",
   "metadata": {},
   "outputs": [],
   "source": []
  },
  {
   "cell_type": "code",
   "execution_count": null,
   "id": "27693eb8-225f-431c-8d02-52c6d054e832",
   "metadata": {},
   "outputs": [],
   "source": []
  }
 ],
 "metadata": {
  "kernelspec": {
   "display_name": "Python [conda env:base] *",
   "language": "python",
   "name": "conda-base-py"
  },
  "language_info": {
   "codemirror_mode": {
    "name": "ipython",
    "version": 3
   },
   "file_extension": ".py",
   "mimetype": "text/x-python",
   "name": "python",
   "nbconvert_exporter": "python",
   "pygments_lexer": "ipython3",
   "version": "3.12.7"
  }
 },
 "nbformat": 4,
 "nbformat_minor": 5
}
