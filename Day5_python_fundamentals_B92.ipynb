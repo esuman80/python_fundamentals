{
 "cells": [
  {
   "cell_type": "code",
   "execution_count": null,
   "id": "2d4dfafe-e269-4843-bd2c-4400f4860461",
   "metadata": {},
   "outputs": [],
   "source": [
    "Continuation for list datatype:"
   ]
  },
  {
   "cell_type": "code",
   "execution_count": null,
   "id": "7cb1f66d-dfff-4881-a6fc-a733a82c47b7",
   "metadata": {},
   "outputs": [],
   "source": [
    "Organizing the list datatype:"
   ]
  },
  {
   "cell_type": "code",
   "execution_count": 7,
   "id": "7db520b4-0a62-4e96-989a-28920e47d6bb",
   "metadata": {},
   "outputs": [],
   "source": [
    "cars = ['kia','audi','maruthi','benz','toyota','byd','mg']"
   ]
  },
  {
   "cell_type": "raw",
   "id": "8417a1c6-90d9-401e-bb3e-eb4c5b69d396",
   "metadata": {},
   "source": [
    "print(cars)"
   ]
  },
  {
   "cell_type": "code",
   "execution_count": 9,
   "id": "19af16e8-7266-431e-8db3-bd10bee351fe",
   "metadata": {},
   "outputs": [
    {
     "name": "stdout",
     "output_type": "stream",
     "text": [
      "['kia', 'audi', 'maruthi', 'benz', 'toyota', 'byd', 'mg']\n"
     ]
    }
   ],
   "source": [
    "print(cars)"
   ]
  },
  {
   "cell_type": "code",
   "execution_count": null,
   "id": "815e0349-b841-46d4-9059-91c8c47e5db8",
   "metadata": {},
   "outputs": [],
   "source": [
    "#req: I want to arrange the cars list in the alphabetic order"
   ]
  },
  {
   "cell_type": "code",
   "execution_count": null,
   "id": "d0ce95fa-1315-40c4-b96d-acd83c78cf1f",
   "metadata": {},
   "outputs": [],
   "source": [
    "2 approches:\n",
    "1. temp approach--->sorted===>we will be able to get the original order of the list declared.\n",
    "2. permanent appraoch--->sort===>We will not be able to get the original order and the changes are applied permanently."
   ]
  },
  {
   "cell_type": "code",
   "execution_count": null,
   "id": "b61de053-c58a-4eb5-a02d-d38566bb56f9",
   "metadata": {},
   "outputs": [],
   "source": [
    "#temp approach"
   ]
  },
  {
   "cell_type": "code",
   "execution_count": 11,
   "id": "9f8fc76f-e8aa-4631-bbf4-ae982e4c3249",
   "metadata": {},
   "outputs": [
    {
     "name": "stdout",
     "output_type": "stream",
     "text": [
      "['audi', 'benz', 'byd', 'kia', 'maruthi', 'mg', 'toyota']\n"
     ]
    }
   ],
   "source": [
    "print(sorted(cars))"
   ]
  },
  {
   "cell_type": "code",
   "execution_count": 13,
   "id": "8dfa2a2f-50b0-4bb7-ae6c-ffd7e56ae1d0",
   "metadata": {},
   "outputs": [
    {
     "name": "stdout",
     "output_type": "stream",
     "text": [
      "['kia', 'audi', 'maruthi', 'benz', 'toyota', 'byd', 'mg']\n"
     ]
    }
   ],
   "source": [
    "print(cars)"
   ]
  },
  {
   "cell_type": "code",
   "execution_count": null,
   "id": "e97f8d79-2281-4a2f-accb-329996ab8a55",
   "metadata": {},
   "outputs": [],
   "source": [
    "#permanent approach"
   ]
  },
  {
   "cell_type": "code",
   "execution_count": 15,
   "id": "8efb96cc-fd78-4881-9563-6cff3e16d185",
   "metadata": {},
   "outputs": [],
   "source": [
    "cars.sort()"
   ]
  },
  {
   "cell_type": "code",
   "execution_count": 17,
   "id": "2a7cb727-e49a-4d15-b952-dd6d1538bacc",
   "metadata": {},
   "outputs": [
    {
     "name": "stdout",
     "output_type": "stream",
     "text": [
      "['audi', 'benz', 'byd', 'kia', 'maruthi', 'mg', 'toyota']\n"
     ]
    }
   ],
   "source": [
    "print(cars)"
   ]
  },
  {
   "cell_type": "code",
   "execution_count": null,
   "id": "e63638cd-acd2-49bc-890e-51fbc32866e2",
   "metadata": {},
   "outputs": [],
   "source": [
    "Interview question: What is the difference between sorted and sort methods in list datatype? Explain."
   ]
  },
  {
   "cell_type": "code",
   "execution_count": null,
   "id": "1581085c-e3f5-4abf-9781-3c93161ea321",
   "metadata": {},
   "outputs": [],
   "source": [
    "#req: I want to know the no. of items that are there in a list?"
   ]
  },
  {
   "cell_type": "code",
   "execution_count": 19,
   "id": "dc9dcf83-0350-46f2-b810-42707acadae8",
   "metadata": {},
   "outputs": [
    {
     "data": {
      "text/plain": [
       "7"
      ]
     },
     "execution_count": 19,
     "metadata": {},
     "output_type": "execute_result"
    }
   ],
   "source": [
    "len(cars)"
   ]
  },
  {
   "cell_type": "code",
   "execution_count": null,
   "id": "74266b78-77f6-4e78-b2a7-930f9d2495db",
   "metadata": {},
   "outputs": [],
   "source": [
    "#Req: I want to print the list in the reverse order?"
   ]
  },
  {
   "cell_type": "code",
   "execution_count": 21,
   "id": "67342bf5-1eb3-4be9-8a9d-5d4f6635979e",
   "metadata": {},
   "outputs": [],
   "source": [
    "cars.reverse()"
   ]
  },
  {
   "cell_type": "code",
   "execution_count": 23,
   "id": "2cfddf2d-fe5e-4360-98ad-3cecc4155d90",
   "metadata": {},
   "outputs": [
    {
     "name": "stdout",
     "output_type": "stream",
     "text": [
      "['toyota', 'mg', 'maruthi', 'kia', 'byd', 'benz', 'audi']\n"
     ]
    }
   ],
   "source": [
    "print(cars)"
   ]
  },
  {
   "cell_type": "code",
   "execution_count": null,
   "id": "85921828-e898-4145-8a57-64625c2c12bb",
   "metadata": {},
   "outputs": [],
   "source": []
  },
  {
   "cell_type": "code",
   "execution_count": null,
   "id": "0b1999c0-46c3-4efd-9a4d-00506e9ccd3c",
   "metadata": {},
   "outputs": [],
   "source": [
    "###Looping statements:"
   ]
  },
  {
   "cell_type": "code",
   "execution_count": null,
   "id": "784e07f3-513b-4578-a696-b197104dbd25",
   "metadata": {},
   "outputs": [],
   "source": [
    "for loop : "
   ]
  },
  {
   "cell_type": "code",
   "execution_count": null,
   "id": "61ddf72b-a06c-4ba1-a8ef-3d2a374f0e85",
   "metadata": {},
   "outputs": [],
   "source": [
    "##general syntax: "
   ]
  },
  {
   "cell_type": "code",
   "execution_count": null,
   "id": "06b0ec22-ff7b-47f6-9891-677c0fa10ce9",
   "metadata": {},
   "outputs": [],
   "source": [
    "for tempvar in mainvar:\n",
    "    print(tempvar)"
   ]
  },
  {
   "cell_type": "code",
   "execution_count": 25,
   "id": "0e05d240-8baf-409d-ae3d-d053f5b1be30",
   "metadata": {},
   "outputs": [
    {
     "name": "stdout",
     "output_type": "stream",
     "text": [
      "['toyota', 'mg', 'maruthi', 'kia', 'byd', 'benz', 'audi']\n"
     ]
    }
   ],
   "source": [
    "print(cars) ##main variable is cars"
   ]
  },
  {
   "cell_type": "code",
   "execution_count": 27,
   "id": "f9ba8838-9e9e-4793-aca9-312b1ed24ec6",
   "metadata": {},
   "outputs": [
    {
     "name": "stdout",
     "output_type": "stream",
     "text": [
      "toyota\n",
      "mg\n",
      "maruthi\n",
      "kia\n",
      "byd\n",
      "benz\n",
      "audi\n"
     ]
    }
   ],
   "source": [
    "for x in cars:\n",
    "    print(x)"
   ]
  },
  {
   "cell_type": "code",
   "execution_count": 29,
   "id": "16b3b404-b112-4c99-88dc-7332a8f32a1b",
   "metadata": {},
   "outputs": [],
   "source": [
    "students = ['lubna', 'ayesha', 'ramya', 'naveena', 'john', 'chandra', 'tazeen']"
   ]
  },
  {
   "cell_type": "code",
   "execution_count": 31,
   "id": "38e159d0-5ad4-4102-ae67-916f54eb12af",
   "metadata": {},
   "outputs": [
    {
     "name": "stdout",
     "output_type": "stream",
     "text": [
      "['lubna', 'ayesha', 'ramya', 'naveena', 'john', 'chandra', 'tazeen']\n"
     ]
    }
   ],
   "source": [
    "print(students)"
   ]
  },
  {
   "cell_type": "code",
   "execution_count": null,
   "id": "dd5d94ba-0c3f-46c5-8789-d9ad83def44a",
   "metadata": {},
   "outputs": [],
   "source": [
    "#req: I want to approciate Lubna for daily consistency"
   ]
  },
  {
   "cell_type": "code",
   "execution_count": 33,
   "id": "f534fc76-3b04-4db0-872f-d7f1e183592d",
   "metadata": {},
   "outputs": [
    {
     "name": "stdout",
     "output_type": "stream",
     "text": [
      "keep up the good work, Lubna\n"
     ]
    }
   ],
   "source": [
    "message = f\"keep up the good work, {students[0].title()}\"\n",
    "print(message)"
   ]
  },
  {
   "cell_type": "code",
   "execution_count": 35,
   "id": "dd6744f8-9a0e-4b76-b997-fe97373119b1",
   "metadata": {},
   "outputs": [
    {
     "name": "stdout",
     "output_type": "stream",
     "text": [
      "keep up the good work, Ayesha\n"
     ]
    }
   ],
   "source": [
    "message = f\"keep up the good work, {students[1].title()}\"\n",
    "print(message)"
   ]
  },
  {
   "cell_type": "code",
   "execution_count": 43,
   "id": "d6d28ea8-6ed0-400f-8f1c-ebadbf18eb90",
   "metadata": {},
   "outputs": [
    {
     "name": "stdout",
     "output_type": "stream",
     "text": [
      "keep up the good work, Lubna\n",
      "keep up the good work, Ayesha\n",
      "keep up the good work, Ramya\n",
      "keep up the good work, Naveena\n",
      "keep up the good work, John\n",
      "keep up the good work, Chandra\n",
      "keep up the good work, Tazeen\n"
     ]
    }
   ],
   "source": [
    "for a in students:\n",
    "    print(f\"keep up the good work, {a.title()}\")"
   ]
  },
  {
   "cell_type": "code",
   "execution_count": 45,
   "id": "e6e13dc0-cb93-4c86-9d9f-47f8bb1f169c",
   "metadata": {},
   "outputs": [
    {
     "name": "stdout",
     "output_type": "stream",
     "text": [
      "keep up the good work, Lubna\n",
      "I will be looking forward to receive your todays submission, Lubna\n",
      "keep up the good work, Ayesha\n",
      "I will be looking forward to receive your todays submission, Ayesha\n",
      "keep up the good work, Ramya\n",
      "I will be looking forward to receive your todays submission, Ramya\n",
      "keep up the good work, Naveena\n",
      "I will be looking forward to receive your todays submission, Naveena\n",
      "keep up the good work, John\n",
      "I will be looking forward to receive your todays submission, John\n",
      "keep up the good work, Chandra\n",
      "I will be looking forward to receive your todays submission, Chandra\n",
      "keep up the good work, Tazeen\n",
      "I will be looking forward to receive your todays submission, Tazeen\n"
     ]
    }
   ],
   "source": [
    "for a in students:\n",
    "    print(f\"keep up the good work, {a.title()}\")\n",
    "    print(f\"I will be looking forward to receive your todays submission, {a.title()}\")"
   ]
  },
  {
   "cell_type": "code",
   "execution_count": 47,
   "id": "6ed546b4-4268-4041-9e97-e45237fd5aa2",
   "metadata": {},
   "outputs": [
    {
     "name": "stdout",
     "output_type": "stream",
     "text": [
      "keep up the good work, Lubna\n",
      "I will be looking forward to receive your todays submission, Lubna\n",
      "\n",
      "keep up the good work, Ayesha\n",
      "I will be looking forward to receive your todays submission, Ayesha\n",
      "\n",
      "keep up the good work, Ramya\n",
      "I will be looking forward to receive your todays submission, Ramya\n",
      "\n",
      "keep up the good work, Naveena\n",
      "I will be looking forward to receive your todays submission, Naveena\n",
      "\n",
      "keep up the good work, John\n",
      "I will be looking forward to receive your todays submission, John\n",
      "\n",
      "keep up the good work, Chandra\n",
      "I will be looking forward to receive your todays submission, Chandra\n",
      "\n",
      "keep up the good work, Tazeen\n",
      "I will be looking forward to receive your todays submission, Tazeen\n",
      "\n"
     ]
    }
   ],
   "source": [
    "for a in students:\n",
    "    print(f\"keep up the good work, {a.title()}\")\n",
    "    print(f\"I will be looking forward to receive your todays submission, {a.title()}\\n\")#\\n"
   ]
  },
  {
   "cell_type": "code",
   "execution_count": null,
   "id": "9495a103-1d01-4a85-b4ea-f769a90f8557",
   "metadata": {},
   "outputs": [],
   "source": [
    "for tempvar in mainvar:\n",
    "    print(temp)"
   ]
  },
  {
   "cell_type": "code",
   "execution_count": 49,
   "id": "2b5321bd-dab7-443a-af9b-62df683c1b76",
   "metadata": {},
   "outputs": [
    {
     "name": "stdout",
     "output_type": "stream",
     "text": [
      "lubna\n",
      "ayesha\n",
      "ramya\n",
      "naveena\n",
      "john\n",
      "chandra\n",
      "tazeen\n"
     ]
    }
   ],
   "source": [
    "for ironman in students:\n",
    "    print(ironman)"
   ]
  },
  {
   "cell_type": "code",
   "execution_count": 51,
   "id": "07926ca8-413f-41c6-a726-8c5d330345f3",
   "metadata": {},
   "outputs": [
    {
     "name": "stdout",
     "output_type": "stream",
     "text": [
      "keep up the good work, Lubna\n",
      "I will be looking forward to receive your todays submission, Lubna\n",
      "\n",
      "keep up the good work, Ayesha\n",
      "I will be looking forward to receive your todays submission, Ayesha\n",
      "\n",
      "keep up the good work, Ramya\n",
      "I will be looking forward to receive your todays submission, Ramya\n",
      "\n",
      "keep up the good work, Naveena\n",
      "I will be looking forward to receive your todays submission, Naveena\n",
      "\n",
      "keep up the good work, John\n",
      "I will be looking forward to receive your todays submission, John\n",
      "\n",
      "keep up the good work, Chandra\n",
      "I will be looking forward to receive your todays submission, Chandra\n",
      "\n",
      "keep up the good work, Tazeen\n",
      "I will be looking forward to receive your todays submission, Tazeen\n",
      "\n",
      "Thank you all for showing interest in learning python\n"
     ]
    }
   ],
   "source": [
    "for a in students:\n",
    "    print(f\"keep up the good work, {a.title()}\")\n",
    "    print(f\"I will be looking forward to receive your todays submission, {a.title()}\\n\")\n",
    "\n",
    "print(\"Thank you all for showing interest in learning python\")###Only repeats ones"
   ]
  },
  {
   "cell_type": "code",
   "execution_count": null,
   "id": "9b5004bc-8929-4343-9b47-5e9e5812efa7",
   "metadata": {},
   "outputs": [],
   "source": []
  },
  {
   "cell_type": "code",
   "execution_count": null,
   "id": "abf036a9-f0d8-4ade-bca3-0dcb5b553b54",
   "metadata": {},
   "outputs": [],
   "source": []
  },
  {
   "cell_type": "code",
   "execution_count": null,
   "id": "b7b5b90f-7ed1-448b-94c9-2228de67d1bd",
   "metadata": {},
   "outputs": [],
   "source": []
  },
  {
   "cell_type": "code",
   "execution_count": null,
   "id": "962cbc93-0041-4223-b2ae-25ce0398824d",
   "metadata": {},
   "outputs": [],
   "source": []
  },
  {
   "cell_type": "code",
   "execution_count": null,
   "id": "701bb14c-9775-417a-bc13-7e5183794dd5",
   "metadata": {},
   "outputs": [],
   "source": []
  }
 ],
 "metadata": {
  "kernelspec": {
   "display_name": "Python [conda env:base] *",
   "language": "python",
   "name": "conda-base-py"
  },
  "language_info": {
   "codemirror_mode": {
    "name": "ipython",
    "version": 3
   },
   "file_extension": ".py",
   "mimetype": "text/x-python",
   "name": "python",
   "nbconvert_exporter": "python",
   "pygments_lexer": "ipython3",
   "version": "3.12.7"
  }
 },
 "nbformat": 4,
 "nbformat_minor": 5
}
