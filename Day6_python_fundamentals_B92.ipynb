{
 "cells": [
  {
   "cell_type": "code",
   "execution_count": null,
   "id": "17a4b7f7-a3bd-42e3-a206-72e5ce6590aa",
   "metadata": {},
   "outputs": [],
   "source": [
    "##Introduction to tuple datatype:"
   ]
  },
  {
   "cell_type": "code",
   "execution_count": null,
   "id": "d255f917-9e5b-4b7a-8877-dcf6560e6b5a",
   "metadata": {},
   "outputs": [],
   "source": [
    "Def: An immutable list is called a tuple. \n",
    "Classification: It is classified as an immutable datatye\n",
    "How to define the tuple? Using ()"
   ]
  },
  {
   "cell_type": "code",
   "execution_count": null,
   "id": "77fe583c-3878-4c4a-b430-06b6eb0d8802",
   "metadata": {},
   "outputs": [],
   "source": [
    "Sample list:"
   ]
  },
  {
   "cell_type": "code",
   "execution_count": 1,
   "id": "2eaab2d1-afb4-4469-b1ad-3b839c7379b8",
   "metadata": {},
   "outputs": [],
   "source": [
    "students = ('praveen','dinesh','pooja','rahul','sajid')"
   ]
  },
  {
   "cell_type": "code",
   "execution_count": 3,
   "id": "a91f04a3-02ac-4218-a19c-d605d00e371f",
   "metadata": {},
   "outputs": [
    {
     "data": {
      "text/plain": [
       "tuple"
      ]
     },
     "execution_count": 3,
     "metadata": {},
     "output_type": "execute_result"
    }
   ],
   "source": [
    "type(students)"
   ]
  },
  {
   "cell_type": "code",
   "execution_count": null,
   "id": "139a6b1c-dce7-43f5-948b-104bb4bba67a",
   "metadata": {},
   "outputs": [],
   "source": [
    "#Req: I want to access dinesh name in the output"
   ]
  },
  {
   "cell_type": "code",
   "execution_count": 11,
   "id": "970e03f4-f237-4159-bbd3-906e5a6988cb",
   "metadata": {},
   "outputs": [
    {
     "name": "stdout",
     "output_type": "stream",
     "text": [
      "dinesh\n"
     ]
    }
   ],
   "source": [
    "print(students[1])"
   ]
  },
  {
   "cell_type": "code",
   "execution_count": null,
   "id": "7d6ad36f-9870-4a9b-ad0d-e44259c31bf5",
   "metadata": {},
   "outputs": [],
   "source": [
    "# req: I want ot modify pooja name to radha"
   ]
  },
  {
   "cell_type": "code",
   "execution_count": 13,
   "id": "23b3c826-7f81-4470-b4ce-d0ed0f0fcd82",
   "metadata": {},
   "outputs": [
    {
     "ename": "TypeError",
     "evalue": "'tuple' object does not support item assignment",
     "output_type": "error",
     "traceback": [
      "\u001b[1;31m---------------------------------------------------------------------------\u001b[0m",
      "\u001b[1;31mTypeError\u001b[0m                                 Traceback (most recent call last)",
      "Cell \u001b[1;32mIn[13], line 1\u001b[0m\n\u001b[1;32m----> 1\u001b[0m students[\u001b[38;5;241m2\u001b[39m] \u001b[38;5;241m=\u001b[39m \u001b[38;5;124m'\u001b[39m\u001b[38;5;124mradha\u001b[39m\u001b[38;5;124m'\u001b[39m\n",
      "\u001b[1;31mTypeError\u001b[0m: 'tuple' object does not support item assignment"
     ]
    }
   ],
   "source": [
    "students[2] = 'radha'"
   ]
  },
  {
   "cell_type": "code",
   "execution_count": null,
   "id": "c2b76f4f-bff0-4554-86ef-8be73ad96dc3",
   "metadata": {},
   "outputs": [],
   "source": []
  },
  {
   "cell_type": "code",
   "execution_count": 15,
   "id": "3a46fa31-9b6a-4877-bf9f-46eb7d69aaa3",
   "metadata": {},
   "outputs": [],
   "source": [
    "dimensions = (200,50)"
   ]
  },
  {
   "cell_type": "code",
   "execution_count": 17,
   "id": "d4ce622a-3df7-4662-9d71-8a4f064ac400",
   "metadata": {},
   "outputs": [
    {
     "name": "stdout",
     "output_type": "stream",
     "text": [
      "(200, 50)\n"
     ]
    }
   ],
   "source": [
    "print(dimensions)"
   ]
  },
  {
   "cell_type": "code",
   "execution_count": 19,
   "id": "991e3cd9-4c0f-4a26-a7ae-1216d3c3eb24",
   "metadata": {},
   "outputs": [
    {
     "data": {
      "text/plain": [
       "tuple"
      ]
     },
     "execution_count": 19,
     "metadata": {},
     "output_type": "execute_result"
    }
   ],
   "source": [
    "type(dimensions)"
   ]
  },
  {
   "cell_type": "code",
   "execution_count": 21,
   "id": "9a18f620-85b4-41a4-8989-fcaf25bdc1b1",
   "metadata": {},
   "outputs": [
    {
     "name": "stdout",
     "output_type": "stream",
     "text": [
      "praveen\n",
      "dinesh\n",
      "pooja\n",
      "rahul\n",
      "sajid\n"
     ]
    }
   ],
   "source": [
    "for x in students:\n",
    "    print(x)"
   ]
  },
  {
   "cell_type": "code",
   "execution_count": 23,
   "id": "19b32bb1-529d-48fe-a9b9-de3a7cffedce",
   "metadata": {},
   "outputs": [
    {
     "name": "stdout",
     "output_type": "stream",
     "text": [
      "['dinesh', 'pooja', 'praveen', 'rahul', 'sajid']\n"
     ]
    }
   ],
   "source": [
    "print(sorted(students))"
   ]
  },
  {
   "cell_type": "code",
   "execution_count": null,
   "id": "ff7edccb-7da9-46c0-ac2b-9147db37a303",
   "metadata": {},
   "outputs": [],
   "source": [
    "##Introduction to dictionary datatype"
   ]
  },
  {
   "cell_type": "code",
   "execution_count": null,
   "id": "e8abf4e6-6c48-4385-b7d8-ecc12d32c0e1",
   "metadata": {},
   "outputs": [],
   "source": [
    "Def: A dictionary is a combination of key value pairs\n",
    "Classification: It is an mutable datatype. We can edit or alter the dictionary\n",
    "How to declare the dictionary: {}"
   ]
  },
  {
   "cell_type": "code",
   "execution_count": null,
   "id": "18ab84a3-a70c-4ba3-af79-fedf42de8677",
   "metadata": {},
   "outputs": [],
   "source": [
    "# Req: I want to create a alien game:"
   ]
  },
  {
   "cell_type": "code",
   "execution_count": 25,
   "id": "45c3f00e-f875-46ab-99ac-fe42ecd9182c",
   "metadata": {},
   "outputs": [],
   "source": [
    "alien = {'color':'green','points':5}"
   ]
  },
  {
   "cell_type": "code",
   "execution_count": 27,
   "id": "80c42172-04ec-4356-a54b-bd689f05bfda",
   "metadata": {},
   "outputs": [
    {
     "name": "stdout",
     "output_type": "stream",
     "text": [
      "{'color': 'green', 'points': 5}\n"
     ]
    }
   ],
   "source": [
    "print(alien)"
   ]
  },
  {
   "cell_type": "code",
   "execution_count": 29,
   "id": "c4ea37a8-2d86-4d48-b672-17d2a8f26627",
   "metadata": {},
   "outputs": [
    {
     "data": {
      "text/plain": [
       "dict"
      ]
     },
     "execution_count": 29,
     "metadata": {},
     "output_type": "execute_result"
    }
   ],
   "source": [
    "type(alien)"
   ]
  },
  {
   "cell_type": "code",
   "execution_count": null,
   "id": "ed7f2e88-4f3f-4bea-9620-412c94bffeb6",
   "metadata": {},
   "outputs": [],
   "source": [
    "Note: In the dictionary keys will be acting like an index"
   ]
  },
  {
   "cell_type": "code",
   "execution_count": null,
   "id": "9fc3b97a-5c60-4c67-a709-a04463608e20",
   "metadata": {},
   "outputs": [],
   "source": [
    "#Req: I want to know the color of the alien?"
   ]
  },
  {
   "cell_type": "code",
   "execution_count": 31,
   "id": "7a2f24b9-b863-4bf3-a01b-a27bd8b9d6c2",
   "metadata": {},
   "outputs": [
    {
     "name": "stdout",
     "output_type": "stream",
     "text": [
      "green\n"
     ]
    }
   ],
   "source": [
    "print(alien['color'])"
   ]
  },
  {
   "cell_type": "code",
   "execution_count": null,
   "id": "0f0f7ef7-a6c3-4b25-9cf8-1cc6e73ee369",
   "metadata": {},
   "outputs": [],
   "source": [
    "#give the key and get the value as above"
   ]
  },
  {
   "cell_type": "code",
   "execution_count": 41,
   "id": "b487ee59-c28c-48a3-a9f9-502881cd1d7b",
   "metadata": {},
   "outputs": [],
   "source": [
    "##But you cannot get the same from the value:\n"
   ]
  },
  {
   "cell_type": "code",
   "execution_count": 43,
   "id": "4e675cb1-43f1-4591-a35e-30f5fdf51554",
   "metadata": {},
   "outputs": [
    {
     "ename": "KeyError",
     "evalue": "5",
     "output_type": "error",
     "traceback": [
      "\u001b[1;31m---------------------------------------------------------------------------\u001b[0m",
      "\u001b[1;31mKeyError\u001b[0m                                  Traceback (most recent call last)",
      "Cell \u001b[1;32mIn[43], line 1\u001b[0m\n\u001b[1;32m----> 1\u001b[0m \u001b[38;5;28mprint\u001b[39m(alien[\u001b[38;5;241m5\u001b[39m])\n",
      "\u001b[1;31mKeyError\u001b[0m: 5"
     ]
    }
   ],
   "source": [
    "print(alien[5])"
   ]
  },
  {
   "cell_type": "code",
   "execution_count": null,
   "id": "b14e5a79-c9c2-4854-ae25-602acaa0d23f",
   "metadata": {},
   "outputs": [],
   "source": []
  },
  {
   "cell_type": "code",
   "execution_count": null,
   "id": "4ef7d186-a303-4917-87fc-def9cfa5a572",
   "metadata": {},
   "outputs": [],
   "source": []
  },
  {
   "cell_type": "code",
   "execution_count": null,
   "id": "48e28734-9a6c-48d2-b7fe-56b98c357081",
   "metadata": {},
   "outputs": [],
   "source": []
  }
 ],
 "metadata": {
  "kernelspec": {
   "display_name": "Python [conda env:base] *",
   "language": "python",
   "name": "conda-base-py"
  },
  "language_info": {
   "codemirror_mode": {
    "name": "ipython",
    "version": 3
   },
   "file_extension": ".py",
   "mimetype": "text/x-python",
   "name": "python",
   "nbconvert_exporter": "python",
   "pygments_lexer": "ipython3",
   "version": "3.12.7"
  }
 },
 "nbformat": 4,
 "nbformat_minor": 5
}
