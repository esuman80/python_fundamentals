{
 "cells": [
  {
   "cell_type": "code",
   "execution_count": 5,
   "id": "d10bdfb7-941b-42df-8f57-1537b149d6a3",
   "metadata": {},
   "outputs": [
    {
     "name": "stdout",
     "output_type": "stream",
     "text": [
      "This is the practice for the python programming\n"
     ]
    }
   ],
   "source": [
    "print(\"This is the practice for the python programming\")"
   ]
  },
  {
   "cell_type": "code",
   "execution_count": null,
   "id": "58f65fe3-8571-4a18-b3a8-6c96bd538f45",
   "metadata": {},
   "outputs": [],
   "source": []
  }
 ],
 "metadata": {
  "kernelspec": {
   "display_name": "Python [conda env:base] *",
   "language": "python",
   "name": "conda-base-py"
  },
  "language_info": {
   "codemirror_mode": {
    "name": "ipython",
    "version": 3
   },
   "file_extension": ".py",
   "mimetype": "text/x-python",
   "name": "python",
   "nbconvert_exporter": "python",
   "pygments_lexer": "ipython3",
   "version": "3.12.7"
  }
 },
 "nbformat": 4,
 "nbformat_minor": 5
}
